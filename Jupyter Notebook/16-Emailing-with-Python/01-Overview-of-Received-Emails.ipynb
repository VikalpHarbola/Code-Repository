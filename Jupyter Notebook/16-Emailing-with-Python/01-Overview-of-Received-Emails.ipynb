{
 "cells": [
  {
   "cell_type": "code",
   "execution_count": 1,
   "id": "a840e787",
   "metadata": {},
   "outputs": [],
   "source": [
    "import imaplib"
   ]
  },
  {
   "cell_type": "code",
   "execution_count": 2,
   "id": "0d911294",
   "metadata": {},
   "outputs": [],
   "source": [
    "M=imaplib.IMAP4_SSL('imap.gmail.com')"
   ]
  },
  {
   "cell_type": "code",
   "execution_count": 3,
   "id": "5dab9879",
   "metadata": {},
   "outputs": [],
   "source": [
    "import getpass"
   ]
  },
  {
   "cell_type": "code",
   "execution_count": 6,
   "id": "f180864c",
   "metadata": {},
   "outputs": [
    {
     "name": "stdout",
     "output_type": "stream",
     "text": [
      "Enter your email: ········\n"
     ]
    }
   ],
   "source": [
    "user=getpass.getpass(\"Enter your email: \")"
   ]
  },
  {
   "cell_type": "code",
   "execution_count": 7,
   "id": "5e3f21fd",
   "metadata": {},
   "outputs": [
    {
     "name": "stdout",
     "output_type": "stream",
     "text": [
      "Enter your password: ········\n"
     ]
    }
   ],
   "source": [
    "password=getpass.getpass(\"Enter your password: \")"
   ]
  },
  {
   "cell_type": "code",
   "execution_count": 8,
   "id": "3b486c7f",
   "metadata": {},
   "outputs": [
    {
     "data": {
      "text/plain": [
       "('OK', [b'theharbola@gmail.com authenticated (Success)'])"
      ]
     },
     "execution_count": 8,
     "metadata": {},
     "output_type": "execute_result"
    }
   ],
   "source": [
    "M.login(user,password)"
   ]
  },
  {
   "cell_type": "code",
   "execution_count": 9,
   "id": "a4d4bf28",
   "metadata": {},
   "outputs": [
    {
     "data": {
      "text/plain": [
       "('OK',\n",
       " [b'(\\\\HasNoChildren) \"/\" \"INBOX\"',\n",
       "  b'(\\\\HasChildren \\\\Noselect) \"/\" \"[Gmail]\"',\n",
       "  b'(\\\\All \\\\HasNoChildren) \"/\" \"[Gmail]/All Mail\"',\n",
       "  b'(\\\\Drafts \\\\HasNoChildren) \"/\" \"[Gmail]/Drafts\"',\n",
       "  b'(\\\\HasNoChildren \\\\Important) \"/\" \"[Gmail]/Important\"',\n",
       "  b'(\\\\HasNoChildren \\\\Sent) \"/\" \"[Gmail]/Sent Mail\"',\n",
       "  b'(\\\\HasNoChildren \\\\Junk) \"/\" \"[Gmail]/Spam\"',\n",
       "  b'(\\\\Flagged \\\\HasNoChildren) \"/\" \"[Gmail]/Starred\"',\n",
       "  b'(\\\\HasNoChildren \\\\Trash) \"/\" \"[Gmail]/Trash\"'])"
      ]
     },
     "execution_count": 9,
     "metadata": {},
     "output_type": "execute_result"
    }
   ],
   "source": [
    "M.list()"
   ]
  },
  {
   "cell_type": "code",
   "execution_count": 10,
   "id": "1200fb21",
   "metadata": {},
   "outputs": [
    {
     "data": {
      "text/plain": [
       "('OK', [b'444'])"
      ]
     },
     "execution_count": 10,
     "metadata": {},
     "output_type": "execute_result"
    }
   ],
   "source": [
    "M.select(\"inbox\")"
   ]
  },
  {
   "cell_type": "code",
   "execution_count": 22,
   "id": "69ad844e",
   "metadata": {},
   "outputs": [],
   "source": [
    "typ,data=M.search(None,'SUBJECT \"Introducing: YouTube Handles\"')"
   ]
  },
  {
   "cell_type": "code",
   "execution_count": 23,
   "id": "93f6cd69",
   "metadata": {},
   "outputs": [
    {
     "data": {
      "text/plain": [
       "'OK'"
      ]
     },
     "execution_count": 23,
     "metadata": {},
     "output_type": "execute_result"
    }
   ],
   "source": [
    "typ"
   ]
  },
  {
   "cell_type": "code",
   "execution_count": 24,
   "id": "4e8e910f",
   "metadata": {},
   "outputs": [
    {
     "data": {
      "text/plain": [
       "[b'413']"
      ]
     },
     "execution_count": 24,
     "metadata": {},
     "output_type": "execute_result"
    }
   ],
   "source": [
    "data"
   ]
  },
  {
   "cell_type": "code",
   "execution_count": 25,
   "id": "7bd80ba1",
   "metadata": {},
   "outputs": [
    {
     "data": {
      "text/plain": [
       "b'413'"
      ]
     },
     "execution_count": 25,
     "metadata": {},
     "output_type": "execute_result"
    }
   ],
   "source": [
    "data[0]"
   ]
  },
  {
   "cell_type": "code",
   "execution_count": 26,
   "id": "97d61a1e",
   "metadata": {},
   "outputs": [],
   "source": [
    "result,email_data=M.fetch(data[0],'(RFC822)')"
   ]
  },
  {
   "cell_type": "code",
   "execution_count": 27,
   "id": "d24111c9",
   "metadata": {},
   "outputs": [],
   "source": [
    "raw_email=email_data[0][1]"
   ]
  },
  {
   "cell_type": "code",
   "execution_count": 28,
   "id": "2fb94766",
   "metadata": {},
   "outputs": [],
   "source": [
    "raw_email_string=raw_email.decode('utf-8')"
   ]
  },
  {
   "cell_type": "code",
   "execution_count": 33,
   "id": "288d2274",
   "metadata": {},
   "outputs": [],
   "source": [
    "import email"
   ]
  },
  {
   "cell_type": "code",
   "execution_count": 39,
   "id": "d3d3d776",
   "metadata": {},
   "outputs": [],
   "source": [
    "email_message= email.message_from_string(raw_email_string)"
   ]
  },
  {
   "cell_type": "code",
   "execution_count": 41,
   "id": "69c67b29",
   "metadata": {},
   "outputs": [
    {
     "name": "stdout",
     "output_type": "stream",
     "text": [
      "b'On May 18, 2022, we\\xe2\\x80\\x99re updating our Paid Terms of Service (\\xe2\\x80\\x9cPaid Terms\\xe2\\x80\\x9d) to  \\r\\nhelp clarify and make them easier to understand. The Paid Terms apply when  \\r\\nyou purchase content or services on YouTube (such as a movie or Super  \\r\\nStickers) or pay for a subscription (such as YouTube Premium) (\\xe2\\x80\\x9cPaid  \\r\\nServices\\xe2\\x80\\x9d). You are receiving this message because you have recently  \\r\\npurchased a Paid Service.\\r\\nThese changes won\\xe2\\x80\\x99t affect the way you use YouTube, access the Paid  \\r\\nServices, or impact the price of the Paid Services. It\\xe2\\x80\\x99s been a while since  \\r\\nwe updated our Paid Terms and we wanted to ensure they are easy to read and  \\r\\nup to date with our latest new products.\\r\\nYou can review a full summary of the changes and the updated Paid Terms  \\r\\nhere  \\r\\n<https://notifications.google.com/g/p/AKWoLQiRfPK6KrB1OMIjLmySYfl6iTWlcB_L4ykGHvVFA8p-FQdLZrPLW6oUvucVHr-P3HJv47tzL59XBFhVbmKfgR7RESFNPLh9P3yLH8pnZ0Hl7TVg4b2wnZQFP7Vw7H5ZFxWo-iqmFilw>.\\r\\nPlease make sure you read the updates to the Paid Terms  \\r\\n<https://notifications.google.com/g/p/AKWoLQiWRc_9QXTDypMWohXhe1c355_SmKPMVsPqaWR3pyw85F4sA3mOYjlB1bPeMVYzMjZCB70KyPgaeEoaIO98z0ntUGyWc3Mwt-JF-MBGvrXuNyg2_g7bIJ_ZvlikN0tmnbBlvdDrNTLt>.  \\r\\nBy continuing to use a Paid Service on YouTube after May 18, 2022, or  \\r\\npurchasing a new Paid Service after this date, you are agreeing to the new  \\r\\nPaid Terms. If you prefer not to accept the new Paid Terms, please cancel  \\r\\nany paid subscriptions you have on YouTube (such as YouTube Premium) and do  \\r\\nnot buy any further Paid Services on YouTube.\\r\\nThank you for using YouTube!\\r\\n\\r\\nHelp Center  \\r\\n<https://notifications.google.com/g/p/AKWoLQiw8oR4dQzc-lKu97kEfVtTgmVl9z9-fpSX7Puo8njMZUkR5NJRqTTsG7EgMRnxWdYGrNZne8rASeFxb7b2Qhm2mgf7Ug1Hf9o4WTEp1buUqkl0s9k5xTZBHK_KO2xmHWgLJA>\\r\\n\\r\\nEmail options  \\r\\n<https://notifications.google.com/g/p/AKWoLQhSTzDJwK1R23h0VHk6uCQTQOVsWr1PVAhMQPiawAnpjfHwDhplx7ggsgHBkqZKFQ0WnBjXstSNZx24ONEbHeRLFZeBWrGxDTk0G5iTWbTviK1WQJKNX2nvAnnI-rMtRFQZuziugIVgMy-v5YWMM_-z169IUljLFuNC6zTD8T2zIYnijY7uP2C5Q5OloEUF1X_UZpH0hho>\\r\\n\\r\\nYou have received this email to update you about important changes to  \\r\\nYouTube\\xe2\\x80\\x99s Terms&nbsp;of&nbsp;Service.\\r\\n\\r\\n(c) 2022 Google LLC, 1600 Amphitheatre Parkway, Mountain View, CA, 94043\\r\\n'\n"
     ]
    }
   ],
   "source": [
    "for part in email_message.walk():\n",
    "    if part.get_content_type() == \"text/plain\":\n",
    "        body = part.get_payload(decode=True)\n",
    "        print(body)"
   ]
  },
  {
   "cell_type": "code",
   "execution_count": null,
   "id": "ed4beda0",
   "metadata": {},
   "outputs": [],
   "source": []
  }
 ],
 "metadata": {
  "kernelspec": {
   "display_name": "Python 3 (ipykernel)",
   "language": "python",
   "name": "python3"
  },
  "language_info": {
   "codemirror_mode": {
    "name": "ipython",
    "version": 3
   },
   "file_extension": ".py",
   "mimetype": "text/x-python",
   "name": "python",
   "nbconvert_exporter": "python",
   "pygments_lexer": "ipython3",
   "version": "3.9.7"
  }
 },
 "nbformat": 4,
 "nbformat_minor": 5
}
