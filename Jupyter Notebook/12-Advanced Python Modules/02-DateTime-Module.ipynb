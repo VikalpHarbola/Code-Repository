{
 "cells": [
  {
   "cell_type": "code",
   "execution_count": 1,
   "id": "02ca19c4",
   "metadata": {},
   "outputs": [],
   "source": [
    "from datetime import time"
   ]
  },
  {
   "cell_type": "code",
   "execution_count": 2,
   "id": "c58d6055",
   "metadata": {},
   "outputs": [],
   "source": [
    "mytime=time(22,45)"
   ]
  },
  {
   "cell_type": "code",
   "execution_count": 3,
   "id": "9f8dfefa",
   "metadata": {},
   "outputs": [
    {
     "name": "stdout",
     "output_type": "stream",
     "text": [
      "22:45:00\n"
     ]
    }
   ],
   "source": [
    "print(mytime)"
   ]
  },
  {
   "cell_type": "code",
   "execution_count": 4,
   "id": "6662bf27",
   "metadata": {},
   "outputs": [],
   "source": [
    "from datetime import date"
   ]
  },
  {
   "cell_type": "code",
   "execution_count": 5,
   "id": "de261317",
   "metadata": {},
   "outputs": [],
   "source": [
    "d=date(2022,3,5)"
   ]
  },
  {
   "cell_type": "code",
   "execution_count": 6,
   "id": "33e21685",
   "metadata": {},
   "outputs": [
    {
     "name": "stdout",
     "output_type": "stream",
     "text": [
      "2022-03-05\n"
     ]
    }
   ],
   "source": [
    "print(d)"
   ]
  },
  {
   "cell_type": "code",
   "execution_count": 7,
   "id": "724dcba4",
   "metadata": {},
   "outputs": [],
   "source": [
    "d=date.today()"
   ]
  },
  {
   "cell_type": "code",
   "execution_count": 8,
   "id": "85c48ee1",
   "metadata": {},
   "outputs": [
    {
     "name": "stdout",
     "output_type": "stream",
     "text": [
      "2022-11-17\n"
     ]
    }
   ],
   "source": [
    "print(d)"
   ]
  },
  {
   "cell_type": "code",
   "execution_count": 9,
   "id": "0a4df10d",
   "metadata": {},
   "outputs": [],
   "source": [
    "from datetime import datetime"
   ]
  },
  {
   "cell_type": "code",
   "execution_count": 10,
   "id": "706d388a",
   "metadata": {},
   "outputs": [],
   "source": [
    "mydatetime=datetime(2022,11,22,13,34,22,11)"
   ]
  },
  {
   "cell_type": "code",
   "execution_count": 11,
   "id": "355c5a83",
   "metadata": {},
   "outputs": [
    {
     "name": "stdout",
     "output_type": "stream",
     "text": [
      "2022-11-22 13:34:22.000011\n"
     ]
    }
   ],
   "source": [
    "print(mydatetime)"
   ]
  },
  {
   "cell_type": "code",
   "execution_count": 13,
   "id": "2bee7267",
   "metadata": {},
   "outputs": [],
   "source": [
    "mydatetime1=datetime.today()"
   ]
  },
  {
   "cell_type": "code",
   "execution_count": 14,
   "id": "e2a5a92e",
   "metadata": {},
   "outputs": [
    {
     "name": "stdout",
     "output_type": "stream",
     "text": [
      "2022-11-17 13:22:28.655703\n"
     ]
    }
   ],
   "source": [
    "print(mydatetime1)"
   ]
  },
  {
   "cell_type": "code",
   "execution_count": 15,
   "id": "eaf9bfa3",
   "metadata": {},
   "outputs": [],
   "source": [
    "mydatetime1.tzinfo"
   ]
  },
  {
   "cell_type": "code",
   "execution_count": 16,
   "id": "73feb1c1",
   "metadata": {},
   "outputs": [
    {
     "name": "stdout",
     "output_type": "stream",
     "text": [
      "None\n"
     ]
    }
   ],
   "source": [
    "print(mydatetime1.tzinfo)"
   ]
  },
  {
   "cell_type": "code",
   "execution_count": 17,
   "id": "999565a6",
   "metadata": {},
   "outputs": [
    {
     "name": "stdout",
     "output_type": "stream",
     "text": [
      "<built-in method tzname of datetime.datetime object at 0x000001B4D67FD300>\n"
     ]
    }
   ],
   "source": [
    "print(mydatetime1.tzname)"
   ]
  },
  {
   "cell_type": "code",
   "execution_count": 18,
   "id": "b327c045",
   "metadata": {},
   "outputs": [
    {
     "data": {
      "text/plain": [
       "<function datetime.tzname>"
      ]
     },
     "execution_count": 18,
     "metadata": {},
     "output_type": "execute_result"
    }
   ],
   "source": [
    "mydatetime1.tzname"
   ]
  },
  {
   "cell_type": "code",
   "execution_count": 19,
   "id": "77384a78",
   "metadata": {},
   "outputs": [],
   "source": [
    "import datetime"
   ]
  },
  {
   "cell_type": "code",
   "execution_count": 20,
   "id": "c7633906",
   "metadata": {},
   "outputs": [],
   "source": [
    "t=datetime.time(4,20,1)"
   ]
  },
  {
   "cell_type": "code",
   "execution_count": 23,
   "id": "eab1cfb2",
   "metadata": {},
   "outputs": [
    {
     "name": "stdout",
     "output_type": "stream",
     "text": [
      "04:20:01\n",
      "Hour:  4\n",
      "Minute:  20\n",
      "Seconds:  1\n",
      "Micorsecond:  0\n",
      "tzinfo:  None\n"
     ]
    }
   ],
   "source": [
    "#let's show the different components\n",
    "print(t)\n",
    "print(\"Hour: \",t.hour)\n",
    "print(\"Minute: \",t.minute)\n",
    "print(\"Seconds: \",t.second)\n",
    "print(\"Micorsecond: \",t.microsecond)\n",
    "print(\"tzinfo: \",t.tzinfo)"
   ]
  },
  {
   "cell_type": "code",
   "execution_count": 24,
   "id": "7abd4d22",
   "metadata": {},
   "outputs": [
    {
     "name": "stdout",
     "output_type": "stream",
     "text": [
      "Earliest:  00:00:00\n",
      "Latest:  23:59:59.999999\n",
      "Resolution:  0:00:00.000001\n"
     ]
    }
   ],
   "source": [
    "print('Earliest: ',datetime.time.min)\n",
    "print('Latest: ',datetime.time.max)\n",
    "print('Resolution: ',datetime.time.resolution)"
   ]
  },
  {
   "cell_type": "code",
   "execution_count": 26,
   "id": "11f6ca68",
   "metadata": {},
   "outputs": [],
   "source": [
    "today=datetime.date.today()"
   ]
  },
  {
   "cell_type": "code",
   "execution_count": 27,
   "id": "08909868",
   "metadata": {},
   "outputs": [
    {
     "name": "stdout",
     "output_type": "stream",
     "text": [
      "2022-11-17\n",
      "ctime:  Thu Nov 17 00:00:00 2022\n",
      "tuple:  time.struct_time(tm_year=2022, tm_mon=11, tm_mday=17, tm_hour=0, tm_min=0, tm_sec=0, tm_wday=3, tm_yday=321, tm_isdst=-1)\n",
      "ordinal:  738476\n",
      "Year:  2022\n",
      "Month:  11\n",
      "Day:  17\n"
     ]
    }
   ],
   "source": [
    "print(today)\n",
    "print('ctime: ',today.ctime())\n",
    "print('tuple: ',today.timetuple())\n",
    "print('ordinal: ',today.toordinal())\n",
    "print('Year: ',today.year)\n",
    "print('Month: ',today.month)\n",
    "print('Day: ',today.day)"
   ]
  },
  {
   "cell_type": "code",
   "execution_count": 28,
   "id": "ebf0d1a4",
   "metadata": {},
   "outputs": [
    {
     "name": "stdout",
     "output_type": "stream",
     "text": [
      "Earliest:  0001-01-01\n",
      "Latest:  9999-12-31\n",
      "Resolution:  1 day, 0:00:00\n"
     ]
    }
   ],
   "source": [
    "print('Earliest: ',datetime.date.min)\n",
    "print('Latest: ',datetime.date.max)\n",
    "print('Resolution: ',datetime.date.resolution)"
   ]
  },
  {
   "cell_type": "code",
   "execution_count": 29,
   "id": "a8fc5a18",
   "metadata": {},
   "outputs": [
    {
     "name": "stdout",
     "output_type": "stream",
     "text": [
      "2015-03-11\n",
      "1990-03-11\n"
     ]
    }
   ],
   "source": [
    "d1=datetime.date(2015,3,11)\n",
    "print(d1)\n",
    "d2=d1.replace(year=1990)\n",
    "print(d2)"
   ]
  },
  {
   "cell_type": "code",
   "execution_count": null,
   "id": "fccf1884",
   "metadata": {},
   "outputs": [],
   "source": []
  }
 ],
 "metadata": {
  "kernelspec": {
   "display_name": "Python 3 (ipykernel)",
   "language": "python",
   "name": "python3"
  },
  "language_info": {
   "codemirror_mode": {
    "name": "ipython",
    "version": 3
   },
   "file_extension": ".py",
   "mimetype": "text/x-python",
   "name": "python",
   "nbconvert_exporter": "python",
   "pygments_lexer": "ipython3",
   "version": "3.9.7"
  }
 },
 "nbformat": 4,
 "nbformat_minor": 5
}
