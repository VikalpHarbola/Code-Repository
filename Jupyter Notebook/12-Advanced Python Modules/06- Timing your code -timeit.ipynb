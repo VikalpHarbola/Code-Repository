{
 "cells": [
  {
   "cell_type": "code",
   "execution_count": 6,
   "id": "e2f58949",
   "metadata": {},
   "outputs": [],
   "source": [
    "def func_one(n):\n",
    "    '''\n",
    "    Given a number n, returns a list of string integers\n",
    "    ['0','1','2','3','4','5'.....'n']\n",
    "    '''\n",
    "    return [str(num) for num in range(n)]"
   ]
  },
  {
   "cell_type": "code",
   "execution_count": 7,
   "id": "b0043a3d",
   "metadata": {},
   "outputs": [
    {
     "data": {
      "text/plain": [
       "['0', '1', '2', '3', '4', '5', '6', '7', '8', '9']"
      ]
     },
     "execution_count": 7,
     "metadata": {},
     "output_type": "execute_result"
    }
   ],
   "source": [
    "func_one(10)"
   ]
  },
  {
   "cell_type": "code",
   "execution_count": 8,
   "id": "53f18a69",
   "metadata": {},
   "outputs": [],
   "source": [
    "def func_two(n):\n",
    "    '''\n",
    "    Given a number n, returns a list of string integers\n",
    "    ['0','1','2','3','4','5'.....'n']\n",
    "    '''\n",
    "    return list(map(str,range(n)))"
   ]
  },
  {
   "cell_type": "code",
   "execution_count": 9,
   "id": "a5536ec6",
   "metadata": {},
   "outputs": [
    {
     "data": {
      "text/plain": [
       "['0', '1', '2', '3', '4', '5', '6', '7', '8', '9']"
      ]
     },
     "execution_count": 9,
     "metadata": {},
     "output_type": "execute_result"
    }
   ],
   "source": [
    "func_two(10)"
   ]
  },
  {
   "cell_type": "code",
   "execution_count": 12,
   "id": "20336fc8",
   "metadata": {},
   "outputs": [],
   "source": [
    "import time"
   ]
  },
  {
   "cell_type": "code",
   "execution_count": 13,
   "id": "cb93fc04",
   "metadata": {},
   "outputs": [],
   "source": [
    "# STEP 1: Get start time\n",
    "start_time = time.time()\n",
    "# Step 2: Run your code you want to time\n",
    "result = func_one(1000000)\n",
    "# Step 3: Calculate total time elapsed\n",
    "end_time = time.time() - start_time"
   ]
  },
  {
   "cell_type": "code",
   "execution_count": 14,
   "id": "3869b5aa",
   "metadata": {},
   "outputs": [
    {
     "data": {
      "text/plain": [
       "0.22988653182983398"
      ]
     },
     "execution_count": 14,
     "metadata": {},
     "output_type": "execute_result"
    }
   ],
   "source": [
    "end_time"
   ]
  },
  {
   "cell_type": "code",
   "execution_count": 15,
   "id": "11bea647",
   "metadata": {},
   "outputs": [],
   "source": [
    "# STEP 1: Get start time\n",
    "start_time = time.time()\n",
    "# Step 2: Run your code you want to time\n",
    "result = func_two(1000000)\n",
    "# Step 3: Calculate total time elapsed\n",
    "end_time = time.time() - start_time"
   ]
  },
  {
   "cell_type": "code",
   "execution_count": 16,
   "id": "14bbabc3",
   "metadata": {},
   "outputs": [
    {
     "data": {
      "text/plain": [
       "0.18587994575500488"
      ]
     },
     "execution_count": 16,
     "metadata": {},
     "output_type": "execute_result"
    }
   ],
   "source": [
    "end_time\n"
   ]
  },
  {
   "cell_type": "code",
   "execution_count": 17,
   "id": "aab1e509",
   "metadata": {},
   "outputs": [],
   "source": [
    "import timeit"
   ]
  },
  {
   "cell_type": "code",
   "execution_count": 18,
   "id": "df121369",
   "metadata": {},
   "outputs": [],
   "source": [
    "setup = '''\n",
    "def func_one(n):\n",
    "    return [str(num) for num in range(n)]\n",
    "'''"
   ]
  },
  {
   "cell_type": "code",
   "execution_count": 19,
   "id": "3aa9befe",
   "metadata": {},
   "outputs": [],
   "source": [
    "stmt = 'func_one(100)'"
   ]
  },
  {
   "cell_type": "code",
   "execution_count": 20,
   "id": "4e802aad",
   "metadata": {},
   "outputs": [
    {
     "data": {
      "text/plain": [
       "1.8696041000000037"
      ]
     },
     "execution_count": 20,
     "metadata": {},
     "output_type": "execute_result"
    }
   ],
   "source": [
    "timeit.timeit(stmt,setup,number=100000)"
   ]
  },
  {
   "cell_type": "code",
   "execution_count": 21,
   "id": "cca11c88",
   "metadata": {},
   "outputs": [],
   "source": [
    "setup2 = '''\n",
    "def func_two(n):\n",
    "    return list(map(str,range(n)))\n",
    "'''"
   ]
  },
  {
   "cell_type": "code",
   "execution_count": 22,
   "id": "e271c3f2",
   "metadata": {},
   "outputs": [],
   "source": [
    "stmt2 = 'func_two(100)'"
   ]
  },
  {
   "cell_type": "code",
   "execution_count": 23,
   "id": "7bb872e9",
   "metadata": {},
   "outputs": [
    {
     "data": {
      "text/plain": [
       "1.4282915000000003"
      ]
     },
     "execution_count": 23,
     "metadata": {},
     "output_type": "execute_result"
    }
   ],
   "source": [
    "timeit.timeit(stmt2,setup2,number=100000)"
   ]
  },
  {
   "cell_type": "code",
   "execution_count": 24,
   "id": "dd51e1d5",
   "metadata": {},
   "outputs": [
    {
     "data": {
      "text/plain": [
       "18.044640000000072"
      ]
     },
     "execution_count": 24,
     "metadata": {},
     "output_type": "execute_result"
    }
   ],
   "source": [
    "timeit.timeit(stmt,setup,number=1000000)"
   ]
  },
  {
   "cell_type": "code",
   "execution_count": 25,
   "id": "0d3ef96c",
   "metadata": {},
   "outputs": [
    {
     "data": {
      "text/plain": [
       "14.053881000000047"
      ]
     },
     "execution_count": 25,
     "metadata": {},
     "output_type": "execute_result"
    }
   ],
   "source": [
    "timeit.timeit(stmt2,setup2,number=1000000)"
   ]
  },
  {
   "cell_type": "code",
   "execution_count": 26,
   "id": "616a56d0",
   "metadata": {},
   "outputs": [
    {
     "name": "stdout",
     "output_type": "stream",
     "text": [
      "17.4 µs ± 660 ns per loop (mean ± std. dev. of 7 runs, 100000 loops each)\n"
     ]
    }
   ],
   "source": [
    "%%timeit\n",
    "func_one(100)"
   ]
  },
  {
   "cell_type": "code",
   "execution_count": 27,
   "id": "1620c844",
   "metadata": {},
   "outputs": [
    {
     "name": "stdout",
     "output_type": "stream",
     "text": [
      "14.4 µs ± 717 ns per loop (mean ± std. dev. of 7 runs, 100000 loops each)\n"
     ]
    }
   ],
   "source": [
    "%%timeit\n",
    "func_two(100)"
   ]
  },
  {
   "cell_type": "code",
   "execution_count": null,
   "id": "2c10d5e7",
   "metadata": {},
   "outputs": [],
   "source": []
  }
 ],
 "metadata": {
  "kernelspec": {
   "display_name": "Python 3 (ipykernel)",
   "language": "python",
   "name": "python3"
  },
  "language_info": {
   "codemirror_mode": {
    "name": "ipython",
    "version": 3
   },
   "file_extension": ".py",
   "mimetype": "text/x-python",
   "name": "python",
   "nbconvert_exporter": "python",
   "pygments_lexer": "ipython3",
   "version": "3.9.7"
  }
 },
 "nbformat": 4,
 "nbformat_minor": 5
}
