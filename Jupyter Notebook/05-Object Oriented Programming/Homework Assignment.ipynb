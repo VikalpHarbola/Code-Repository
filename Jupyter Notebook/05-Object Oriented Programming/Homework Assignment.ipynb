{
 "cells": [
  {
   "cell_type": "markdown",
   "id": "fa1a4e64",
   "metadata": {},
   "source": [
    "# Cylinder"
   ]
  },
  {
   "cell_type": "code",
   "execution_count": 1,
   "id": "3b55482a",
   "metadata": {},
   "outputs": [],
   "source": [
    "class Cylinder():\n",
    "    pi=3.14\n",
    "    def __init__(self,height=1,radius=1):\n",
    "        self.height=height\n",
    "        self.radius=radius\n",
    "    def volume(self):\n",
    "        return (self.height)*(self.radius)*(self.radius)*(Cylinder.pi)\n",
    "    def surface_area(self):\n",
    "        return 2*Cylinder.pi*self.radius*(self.height+self.radius)"
   ]
  },
  {
   "cell_type": "code",
   "execution_count": 2,
   "id": "3315f477",
   "metadata": {},
   "outputs": [],
   "source": [
    "c=Cylinder(2,3)"
   ]
  },
  {
   "cell_type": "code",
   "execution_count": 3,
   "id": "f7d839b5",
   "metadata": {},
   "outputs": [
    {
     "data": {
      "text/plain": [
       "56.52"
      ]
     },
     "execution_count": 3,
     "metadata": {},
     "output_type": "execute_result"
    }
   ],
   "source": [
    "c.volume()"
   ]
  },
  {
   "cell_type": "code",
   "execution_count": 4,
   "id": "98b914fb",
   "metadata": {},
   "outputs": [
    {
     "data": {
      "text/plain": [
       "94.2"
      ]
     },
     "execution_count": 4,
     "metadata": {},
     "output_type": "execute_result"
    }
   ],
   "source": [
    "c.surface_area()"
   ]
  },
  {
   "cell_type": "markdown",
   "id": "e97f59be",
   "metadata": {},
   "source": [
    "# Line"
   ]
  },
  {
   "cell_type": "code",
   "execution_count": 11,
   "id": "b4bf98fe",
   "metadata": {},
   "outputs": [],
   "source": [
    "class Line():\n",
    "    def __init__(self,coor1,coor2):\n",
    "        self.coor1=coor1\n",
    "        self.coor2=coor2\n",
    "    \n",
    "    def distance(self):\n",
    "        x1,y1=self.coor1\n",
    "        x2,y2=self.coor2\n",
    "        \n",
    "        return ((x2-x1)**2+(y2-y1)**2)**0.5\n",
    "    \n",
    "    def slope(self):\n",
    "        x1,y1=self.coor1\n",
    "        x2,y2=self.coor2\n",
    "        \n",
    "        return (y2-y1)/(x2-x1)"
   ]
  },
  {
   "cell_type": "code",
   "execution_count": 12,
   "id": "2c8bd805",
   "metadata": {},
   "outputs": [],
   "source": [
    "#Example Output\n",
    "coordinate1 = (3,2)\n",
    "coordinate2 = (8,10)\n",
    "\n",
    "l1 = Line(coordinate1,coordinate2)"
   ]
  },
  {
   "cell_type": "code",
   "execution_count": 13,
   "id": "e84a44fe",
   "metadata": {},
   "outputs": [
    {
     "data": {
      "text/plain": [
       "9.433981132056603"
      ]
     },
     "execution_count": 13,
     "metadata": {},
     "output_type": "execute_result"
    }
   ],
   "source": [
    "l1.distance()"
   ]
  },
  {
   "cell_type": "code",
   "execution_count": 14,
   "id": "b4e1d110",
   "metadata": {},
   "outputs": [
    {
     "data": {
      "text/plain": [
       "1.6"
      ]
     },
     "execution_count": 14,
     "metadata": {},
     "output_type": "execute_result"
    }
   ],
   "source": [
    "l1.slope()"
   ]
  },
  {
   "cell_type": "code",
   "execution_count": null,
   "id": "914b2d40",
   "metadata": {},
   "outputs": [],
   "source": []
  }
 ],
 "metadata": {
  "kernelspec": {
   "display_name": "Python 3 (ipykernel)",
   "language": "python",
   "name": "python3"
  },
  "language_info": {
   "codemirror_mode": {
    "name": "ipython",
    "version": 3
   },
   "file_extension": ".py",
   "mimetype": "text/x-python",
   "name": "python",
   "nbconvert_exporter": "python",
   "pygments_lexer": "ipython3",
   "version": "3.9.7"
  }
 },
 "nbformat": 4,
 "nbformat_minor": 5
}
