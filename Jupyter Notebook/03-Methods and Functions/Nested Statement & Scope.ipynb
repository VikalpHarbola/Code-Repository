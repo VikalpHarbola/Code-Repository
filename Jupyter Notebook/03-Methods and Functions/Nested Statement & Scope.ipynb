{
 "cells": [
  {
   "cell_type": "code",
   "execution_count": 1,
   "id": "23c0729a",
   "metadata": {},
   "outputs": [],
   "source": [
    "x=25\n",
    "\n",
    "def printer(x):\n",
    "    x=50\n",
    "    return x"
   ]
  },
  {
   "cell_type": "code",
   "execution_count": 2,
   "id": "58a95fa0",
   "metadata": {},
   "outputs": [
    {
     "name": "stdout",
     "output_type": "stream",
     "text": [
      "25\n"
     ]
    }
   ],
   "source": [
    "print(x)"
   ]
  },
  {
   "cell_type": "code",
   "execution_count": 3,
   "id": "cc4bf65d",
   "metadata": {},
   "outputs": [
    {
     "name": "stdout",
     "output_type": "stream",
     "text": [
      "50\n"
     ]
    }
   ],
   "source": [
    "print(printer(x))"
   ]
  },
  {
   "cell_type": "code",
   "execution_count": 4,
   "id": "76c5f952",
   "metadata": {},
   "outputs": [],
   "source": [
    "f = lambda x:x**2"
   ]
  },
  {
   "cell_type": "code",
   "execution_count": 6,
   "id": "68f701d0",
   "metadata": {},
   "outputs": [
    {
     "data": {
      "text/plain": [
       "4"
      ]
     },
     "execution_count": 6,
     "metadata": {},
     "output_type": "execute_result"
    }
   ],
   "source": [
    "f(2)\n"
   ]
  },
  {
   "cell_type": "code",
   "execution_count": 8,
   "id": "b49e9f8f",
   "metadata": {},
   "outputs": [
    {
     "name": "stdout",
     "output_type": "stream",
     "text": [
      "Hello Sammy\n"
     ]
    }
   ],
   "source": [
    "name='This is a Global name'\n",
    "def greet():\n",
    "    #enclosing function\n",
    "    name ='Sammy'\n",
    "    \n",
    "    def hello():\n",
    "        print('Hello '+name)\n",
    "    \n",
    "    hello()\n",
    "\n",
    "greet()"
   ]
  },
  {
   "cell_type": "code",
   "execution_count": 9,
   "id": "bbe4ad6a",
   "metadata": {},
   "outputs": [
    {
     "name": "stdout",
     "output_type": "stream",
     "text": [
      "This is a Global name\n"
     ]
    }
   ],
   "source": [
    "print(name)"
   ]
  },
  {
   "cell_type": "code",
   "execution_count": 10,
   "id": "f4c50152",
   "metadata": {},
   "outputs": [
    {
     "data": {
      "text/plain": [
       "<function len(obj, /)>"
      ]
     },
     "execution_count": 10,
     "metadata": {},
     "output_type": "execute_result"
    }
   ],
   "source": [
    "len"
   ]
  },
  {
   "cell_type": "code",
   "execution_count": 11,
   "id": "08f4d6d3",
   "metadata": {},
   "outputs": [
    {
     "name": "stdout",
     "output_type": "stream",
     "text": [
      "X is  50\n",
      "Changed local x to  2\n",
      "x is still  50\n"
     ]
    }
   ],
   "source": [
    "x=50\n",
    "\n",
    "def func(x):\n",
    "    print('X is ',x)\n",
    "    x=2\n",
    "    print('Changed local x to ',x)\n",
    "\n",
    "func(x)\n",
    "print('x is still ',x)"
   ]
  },
  {
   "cell_type": "code",
   "execution_count": 12,
   "id": "b8d9e517",
   "metadata": {},
   "outputs": [
    {
     "name": "stdout",
     "output_type": "stream",
     "text": [
      "Before calling func() x is  50\n",
      "This function is now using global x!\n",
      "because of global x is:  50\n",
      "Ran func() changed global x to  2\n",
      "value of x (outside of func()) is  2\n"
     ]
    }
   ],
   "source": [
    "x=50\n",
    "def func():\n",
    "    global x\n",
    "    print('This function is now using global x!')\n",
    "    print('because of global x is: ',x)\n",
    "    x=2\n",
    "    print('Ran func() changed global x to ',x)\n",
    "    \n",
    "print('Before calling func() x is ',x)\n",
    "func()\n",
    "print('value of x (outside of func()) is ',x)"
   ]
  },
  {
   "cell_type": "code",
   "execution_count": null,
   "id": "be7d9807",
   "metadata": {},
   "outputs": [],
   "source": []
  }
 ],
 "metadata": {
  "kernelspec": {
   "display_name": "Python 3 (ipykernel)",
   "language": "python",
   "name": "python3"
  },
  "language_info": {
   "codemirror_mode": {
    "name": "ipython",
    "version": 3
   },
   "file_extension": ".py",
   "mimetype": "text/x-python",
   "name": "python",
   "nbconvert_exporter": "python",
   "pygments_lexer": "ipython3",
   "version": "3.9.7"
  }
 },
 "nbformat": 4,
 "nbformat_minor": 5
}
