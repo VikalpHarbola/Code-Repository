{
 "cells": [
  {
   "cell_type": "markdown",
   "id": "f7ad7803",
   "metadata": {},
   "source": [
    "# Walkthrough Notebook"
   ]
  },
  {
   "cell_type": "code",
   "execution_count": 2,
   "id": "5ea2eed5",
   "metadata": {},
   "outputs": [],
   "source": [
    "from IPython.display import clear_output\n",
    "\n",
    "def display_board(board):\n",
    "    clear_output()  # Remember, this only works in jupyter!\n",
    "    print('   |   |')\n",
    "    print(' ' + board[7] + ' | ' + board[8] + ' | ' + board[9])\n",
    "    print('   |   |')\n",
    "    print('-----------')\n",
    "    print('   |   |')\n",
    "    print(' ' + board[4] + ' | ' + board[5] + ' | ' + board[6])\n",
    "    print('   |   |')\n",
    "    print('-----------')\n",
    "    print('   |   |')\n",
    "    print(' ' + board[1] + ' | ' + board[2] + ' | ' + board[3])\n",
    "    print('   |   |')\n",
    "    "
   ]
  },
  {
   "cell_type": "code",
   "execution_count": 3,
   "id": "b5c62c7a",
   "metadata": {},
   "outputs": [
    {
     "name": "stdout",
     "output_type": "stream",
     "text": [
      "   |   |\n",
      " O | O | X\n",
      "   |   |\n",
      "-----------\n",
      "   |   |\n",
      " X | X | X\n",
      "   |   |\n",
      "-----------\n",
      "   |   |\n",
      " O | X | O\n",
      "   |   |\n"
     ]
    }
   ],
   "source": [
    "test_board=['#','O','X','O','X','X','X','O','O','X']\n",
    "#blank_board=[' ']*10\n",
    "display_board(test_board)"
   ]
  },
  {
   "cell_type": "code",
   "execution_count": 4,
   "id": "08c9f531",
   "metadata": {},
   "outputs": [],
   "source": [
    "def player_input():\n",
    "    marker=''\n",
    "    # Keep asking player1 or player2\n",
    "    while marker != 'X' and marker != 'O':\n",
    "        marker = input(\"Player 1 , please enter X or O: \").upper()\n",
    "    \n",
    "    #print(marker)\n",
    "    player1=marker    \n",
    "    #assign player2 the opposite marker\n",
    "    if player1 == 'X':\n",
    "        player2 = 'O'\n",
    "    else:\n",
    "        player2 = 'X'\n",
    "    \n",
    "    return(player1,player2)"
   ]
  },
  {
   "cell_type": "code",
   "execution_count": 5,
   "id": "5c3a1579",
   "metadata": {},
   "outputs": [
    {
     "name": "stdout",
     "output_type": "stream",
     "text": [
      "Player 1 , please enter X or O: \n",
      "Player 1 , please enter X or O: \n",
      "Player 1 , please enter X or O: O\n"
     ]
    },
    {
     "data": {
      "text/plain": [
       "('O', 'X')"
      ]
     },
     "execution_count": 5,
     "metadata": {},
     "output_type": "execute_result"
    }
   ],
   "source": [
    "player_input()"
   ]
  },
  {
   "cell_type": "code",
   "execution_count": 6,
   "id": "14dffd13",
   "metadata": {},
   "outputs": [
    {
     "name": "stdout",
     "output_type": "stream",
     "text": [
      "Player 1 , please enter X or O: O\n",
      "Player 1 Marker: O\n",
      "Player 2 Marker: X\n"
     ]
    }
   ],
   "source": [
    "player1_marker,player2_marker = player_input()\n",
    "\n",
    "print(f'Player 1 Marker: {player1_marker}')\n",
    "print(f'Player 2 Marker: {player2_marker}')"
   ]
  },
  {
   "cell_type": "code",
   "execution_count": 7,
   "id": "cf28e2be",
   "metadata": {},
   "outputs": [],
   "source": [
    "def place_marker(board,marker,position):\n",
    "        board[position]=marker\n",
    "    "
   ]
  },
  {
   "cell_type": "code",
   "execution_count": 8,
   "id": "7327f9cd",
   "metadata": {},
   "outputs": [
    {
     "name": "stdout",
     "output_type": "stream",
     "text": [
      "   |   |\n",
      " O | O | X\n",
      "   |   |\n",
      "-----------\n",
      "   |   |\n",
      " X | X | X\n",
      "   |   |\n",
      "-----------\n",
      "   |   |\n",
      " O | $ | O\n",
      "   |   |\n"
     ]
    }
   ],
   "source": [
    "place_marker(test_board,'$',2)\n",
    "display_board(test_board)"
   ]
  },
  {
   "cell_type": "code",
   "execution_count": 9,
   "id": "6b17c6f0",
   "metadata": {},
   "outputs": [],
   "source": [
    "def win_check(board,mark):\n",
    "        \n",
    "    return ((board[7] == mark and board[8] == mark and board[9] == mark) or # across the top\n",
    "    (board[4] == mark and board[5] == mark and board[6] == mark) or # across the middle\n",
    "    (board[1] == mark and board[2] == mark and board[3] == mark) or # across the bottom\n",
    "    (board[7] == mark and board[4] == mark and board[1] == mark) or # down the middle\n",
    "    (board[8] == mark and board[5] == mark and board[2] == mark) or # down the middle\n",
    "    (board[9] == mark and board[6] == mark and board[3] == mark) or # down the right side\n",
    "    (board[7] == mark and board[5] == mark and board[3] == mark) or # diagonal\n",
    "    (board[9] == mark and board[5] == mark and board[1] == mark)) # diagonal"
   ]
  },
  {
   "cell_type": "code",
   "execution_count": 10,
   "id": "be4cce9b",
   "metadata": {},
   "outputs": [
    {
     "name": "stdout",
     "output_type": "stream",
     "text": [
      "   |   |\n",
      " O | O | X\n",
      "   |   |\n",
      "-----------\n",
      "   |   |\n",
      " X | X | X\n",
      "   |   |\n",
      "-----------\n",
      "   |   |\n",
      " O | $ | O\n",
      "   |   |\n"
     ]
    },
    {
     "data": {
      "text/plain": [
       "True"
      ]
     },
     "execution_count": 10,
     "metadata": {},
     "output_type": "execute_result"
    }
   ],
   "source": [
    "display_board(test_board)\n",
    "win_check(test_board,'X')"
   ]
  },
  {
   "cell_type": "code",
   "execution_count": 11,
   "id": "c9d69835",
   "metadata": {},
   "outputs": [],
   "source": [
    "import random\n",
    "def choose_first():\n",
    "    flip=random.randint(0,1)\n",
    "    if flip==0:\n",
    "        return 'Player 2'\n",
    "    else:\n",
    "        return 'Player 1'"
   ]
  },
  {
   "cell_type": "code",
   "execution_count": 12,
   "id": "24e1929a",
   "metadata": {},
   "outputs": [],
   "source": [
    "def space_check(board,position):\n",
    "    return board[position] == ' '"
   ]
  },
  {
   "cell_type": "code",
   "execution_count": 13,
   "id": "a3d12e63",
   "metadata": {},
   "outputs": [],
   "source": [
    "def full_board_check(board):\n",
    "    for i in range(1,10):\n",
    "        if space_check(board,i):\n",
    "            return False\n",
    "    \n",
    "    # Board is full if we return True\n",
    "    return True"
   ]
  },
  {
   "cell_type": "code",
   "execution_count": 14,
   "id": "61df70b1",
   "metadata": {},
   "outputs": [],
   "source": [
    "def player_choice(board):\n",
    "    position = 0\n",
    "    while position not in [1,2,3,4,5,6,7,8,9] or not space_check(board,position):\n",
    "        position = int(input(\"Please choose a position(1-9) on board: \"))\n",
    "        print(f\"position {position}\")\n",
    "    return position"
   ]
  },
  {
   "cell_type": "code",
   "execution_count": 15,
   "id": "40ab4d6b",
   "metadata": {},
   "outputs": [],
   "source": [
    "def replay():\n",
    "    #choice = input('Play again Y or N')\n",
    "    return input('Do you want to play again? Enter Yes or No: ').lower().startswith('y')\n",
    "    #return choice == 'Y'"
   ]
  },
  {
   "cell_type": "code",
   "execution_count": 16,
   "id": "3e1641d7",
   "metadata": {},
   "outputs": [
    {
     "name": "stdout",
     "output_type": "stream",
     "text": [
      "   |   |\n",
      " O | X | O\n",
      "   |   |\n",
      "-----------\n",
      "   |   |\n",
      " O | X | X\n",
      "   |   |\n",
      "-----------\n",
      "   |   |\n",
      " X | O | X\n",
      "   |   |\n",
      "TIE GAME!\n",
      "Do you want to play again? Enter Yes or No: no\n"
     ]
    }
   ],
   "source": [
    "#While Loop to keep running the game\n",
    "print('Welcome to Tic Tac Toe!')\n",
    "while True:\n",
    "    #Play the game\n",
    "    \n",
    "    # Set everything up (BOARD, Who's first, Choose Markers X,O)\n",
    "    the_board=[' '] * 10\n",
    "    player1_marker, player2_marker = player_input()\n",
    "    \n",
    "    print(f'Player 1 Marker: {player1_marker}')\n",
    "    print(f'Player 2 Marker: {player2_marker}')\n",
    "    \n",
    "    turn =choose_first()\n",
    "    \n",
    "       \n",
    "    print(turn + ' will go first')\n",
    "    \n",
    "    play_game =input(\"Ready to play? y or n?\")\n",
    "    print(f\"Play Game: {play_game}\")\n",
    "    if play_game == 'y':\n",
    "        game_on = True\n",
    "    else:\n",
    "        game_on = False\n",
    "    \n",
    "    # Game Play\n",
    "    \n",
    "    while game_on:\n",
    "        print(\"Inside while game on\")\n",
    "         # Player One Turn\n",
    "        if turn == 'Player 1':\n",
    "            print(\"Inside while game on if block\")\n",
    "            #Show the board\n",
    "            display_board(the_board)\n",
    "            #Choose a position\n",
    "            position = player_choice(the_board)\n",
    "            print(f'Position is {position}')\n",
    "            #Place the marker on the position\n",
    "            place_marker(the_board,player1_marker,position)\n",
    "            #check if they won\n",
    "            if win_check(the_board,player1_marker):\n",
    "                display_board(the_board)\n",
    "                print('Player 1 has won')\n",
    "                game_on=False\n",
    "            # or check if there is a tie\n",
    "            else:\n",
    "                if full_board_check(the_board):\n",
    "                    display_board(the_board)\n",
    "                    print(\"TIE GAME!\")\n",
    "                    game_on=False\n",
    "                else:\n",
    "                    turn = 'Player 2 '\n",
    "            # No tie No win? then next player's turn\n",
    "    \n",
    "   \n",
    "        else:\n",
    "            #Player Two Turn\n",
    "            #Show the board\n",
    "            print(\"Inside while game on else block\")\n",
    "            display_board(the_board)\n",
    "            #Choose a position\n",
    "            \n",
    "            position = player_choice(the_board)\n",
    "            print(f\"Inside while game on else block position & player 2 marker  {position}  {player2_marker}\")\n",
    "            \n",
    "            #Place the marker on the position\n",
    "            place_marker(the_board,player2_marker,position)\n",
    "            #check if they won\n",
    "            if win_check(the_board,player2_marker):\n",
    "                display_board(the_board)\n",
    "                print('Player 2 has won')\n",
    "                game_on=False\n",
    "            # or check if there is a tie\n",
    "            else:\n",
    "                if full_board_check(the_board):\n",
    "                    display_board(the_board)\n",
    "                    print(\"TIE GAME!\")\n",
    "                    game_on=False\n",
    "                else:\n",
    "                    turn = 'Player 1'\n",
    "    \n",
    "    \n",
    "    if not replay():\n",
    "        break\n",
    "\n",
    "# Breakout of while loop on replay"
   ]
  },
  {
   "cell_type": "code",
   "execution_count": null,
   "id": "5a1a3d58",
   "metadata": {},
   "outputs": [],
   "source": []
  }
 ],
 "metadata": {
  "kernelspec": {
   "display_name": "Python 3 (ipykernel)",
   "language": "python",
   "name": "python3"
  },
  "language_info": {
   "codemirror_mode": {
    "name": "ipython",
    "version": 3
   },
   "file_extension": ".py",
   "mimetype": "text/x-python",
   "name": "python",
   "nbconvert_exporter": "python",
   "pygments_lexer": "ipython3",
   "version": "3.9.7"
  }
 },
 "nbformat": 4,
 "nbformat_minor": 5
}
