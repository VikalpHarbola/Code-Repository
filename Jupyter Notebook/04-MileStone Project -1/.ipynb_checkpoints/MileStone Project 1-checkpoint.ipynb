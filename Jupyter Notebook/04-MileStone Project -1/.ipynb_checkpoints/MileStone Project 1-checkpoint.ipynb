{
 "cells": [
  {
   "cell_type": "markdown",
   "id": "1f405980",
   "metadata": {},
   "source": [
    "# Displaying Information"
   ]
  },
  {
   "cell_type": "code",
   "execution_count": 1,
   "id": "3653d188",
   "metadata": {},
   "outputs": [
    {
     "name": "stdout",
     "output_type": "stream",
     "text": [
      "[1, 2, 3]\n"
     ]
    }
   ],
   "source": [
    "print([1,2,3])"
   ]
  },
  {
   "cell_type": "code",
   "execution_count": 2,
   "id": "b628907b",
   "metadata": {},
   "outputs": [
    {
     "name": "stdout",
     "output_type": "stream",
     "text": [
      "[1, 2, 3]\n",
      "[4, 5, 6]\n",
      "[7, 8, 9]\n"
     ]
    }
   ],
   "source": [
    "print([1,2,3])\n",
    "print([4,5,6])\n",
    "print([7,8,9])"
   ]
  },
  {
   "cell_type": "code",
   "execution_count": 3,
   "id": "e5d7e2a5",
   "metadata": {},
   "outputs": [],
   "source": [
    "def display(row1,row2,row3):\n",
    "    print(row1)\n",
    "    print(row2)\n",
    "    print(row3)"
   ]
  },
  {
   "cell_type": "code",
   "execution_count": 6,
   "id": "e957b9d7",
   "metadata": {},
   "outputs": [
    {
     "name": "stdout",
     "output_type": "stream",
     "text": [
      "[1, 2, 3]\n",
      "[1, 2, 3]\n",
      "[1, 2, 3]\n",
      "[' ', ' ', ' ']\n",
      "[' ', ' ', ' ']\n",
      "[' ', ' ', ' ']\n"
     ]
    }
   ],
   "source": [
    "example_row=[1,2,3]\n",
    "row1=[' ',' ',' ']\n",
    "row2=[' ',' ',' ']\n",
    "row3=[' ',' ',' ']\n",
    "display(example_row,example_row,example_row)\n"
   ]
  },
  {
   "cell_type": "code",
   "execution_count": 7,
   "id": "531a3074",
   "metadata": {},
   "outputs": [
    {
     "name": "stdout",
     "output_type": "stream",
     "text": [
      "[' ', ' ', ' ']\n",
      "[' ', ' ', ' ']\n",
      "[' ', ' ', ' ']\n"
     ]
    }
   ],
   "source": [
    "display(row1,row2,row3)"
   ]
  },
  {
   "cell_type": "code",
   "execution_count": 8,
   "id": "ed32c548",
   "metadata": {},
   "outputs": [],
   "source": [
    "row2[1]='X'"
   ]
  },
  {
   "cell_type": "code",
   "execution_count": 9,
   "id": "90aab90d",
   "metadata": {},
   "outputs": [
    {
     "name": "stdout",
     "output_type": "stream",
     "text": [
      "[' ', ' ', ' ']\n",
      "[' ', 'X', ' ']\n",
      "[' ', ' ', ' ']\n"
     ]
    }
   ],
   "source": [
    "display(row1,row2,row3)"
   ]
  },
  {
   "cell_type": "markdown",
   "id": "c8a16a53",
   "metadata": {},
   "source": [
    "# Accepting User Input"
   ]
  },
  {
   "cell_type": "code",
   "execution_count": 10,
   "id": "31d3e5c3",
   "metadata": {},
   "outputs": [
    {
     "name": "stdout",
     "output_type": "stream",
     "text": [
      "Please enter a value: 2\n"
     ]
    },
    {
     "data": {
      "text/plain": [
       "'2'"
      ]
     },
     "execution_count": 10,
     "metadata": {},
     "output_type": "execute_result"
    }
   ],
   "source": [
    "input(\"Please enter a value: \")"
   ]
  },
  {
   "cell_type": "code",
   "execution_count": 11,
   "id": "aa175d96",
   "metadata": {},
   "outputs": [
    {
     "name": "stdout",
     "output_type": "stream",
     "text": [
      "Please enter a value: 2\n"
     ]
    }
   ],
   "source": [
    "result=input(\"Please enter a value: \")"
   ]
  },
  {
   "cell_type": "code",
   "execution_count": 12,
   "id": "fbe2e10c",
   "metadata": {},
   "outputs": [
    {
     "data": {
      "text/plain": [
       "'2'"
      ]
     },
     "execution_count": 12,
     "metadata": {},
     "output_type": "execute_result"
    }
   ],
   "source": [
    "result"
   ]
  },
  {
   "cell_type": "code",
   "execution_count": 13,
   "id": "1cf4b311",
   "metadata": {},
   "outputs": [
    {
     "data": {
      "text/plain": [
       "str"
      ]
     },
     "execution_count": 13,
     "metadata": {},
     "output_type": "execute_result"
    }
   ],
   "source": [
    "type(result)"
   ]
  },
  {
   "cell_type": "code",
   "execution_count": 14,
   "id": "a2f3b64b",
   "metadata": {},
   "outputs": [],
   "source": [
    "result_int=int(result)"
   ]
  },
  {
   "cell_type": "code",
   "execution_count": 15,
   "id": "e9bdb15e",
   "metadata": {},
   "outputs": [
    {
     "data": {
      "text/plain": [
       "2"
      ]
     },
     "execution_count": 15,
     "metadata": {},
     "output_type": "execute_result"
    }
   ],
   "source": [
    "result_int"
   ]
  },
  {
   "cell_type": "code",
   "execution_count": 16,
   "id": "9560985f",
   "metadata": {},
   "outputs": [
    {
     "data": {
      "text/plain": [
       "int"
      ]
     },
     "execution_count": 16,
     "metadata": {},
     "output_type": "execute_result"
    }
   ],
   "source": [
    "type(result_int)"
   ]
  },
  {
   "cell_type": "code",
   "execution_count": 17,
   "id": "dc87aa89",
   "metadata": {},
   "outputs": [
    {
     "data": {
      "text/plain": [
       "float"
      ]
     },
     "execution_count": 17,
     "metadata": {},
     "output_type": "execute_result"
    }
   ],
   "source": [
    "type(2.3)"
   ]
  },
  {
   "cell_type": "code",
   "execution_count": 18,
   "id": "e191aea6",
   "metadata": {},
   "outputs": [
    {
     "data": {
      "text/plain": [
       "2.3"
      ]
     },
     "execution_count": 18,
     "metadata": {},
     "output_type": "execute_result"
    }
   ],
   "source": [
    "float('2.3')"
   ]
  },
  {
   "cell_type": "code",
   "execution_count": 22,
   "id": "696629c2",
   "metadata": {},
   "outputs": [
    {
     "name": "stdout",
     "output_type": "stream",
     "text": [
      "Choose an index position: 2\n"
     ]
    }
   ],
   "source": [
    "position_index=int(input(\"Choose an index position: \"))"
   ]
  },
  {
   "cell_type": "code",
   "execution_count": 23,
   "id": "090d9f60",
   "metadata": {},
   "outputs": [
    {
     "data": {
      "text/plain": [
       "2"
      ]
     },
     "execution_count": 23,
     "metadata": {},
     "output_type": "execute_result"
    }
   ],
   "source": [
    "position_index"
   ]
  },
  {
   "cell_type": "code",
   "execution_count": 24,
   "id": "847bea9e",
   "metadata": {},
   "outputs": [
    {
     "data": {
      "text/plain": [
       "int"
      ]
     },
     "execution_count": 24,
     "metadata": {},
     "output_type": "execute_result"
    }
   ],
   "source": [
    "type(position_index)"
   ]
  },
  {
   "cell_type": "code",
   "execution_count": 25,
   "id": "0dee8589",
   "metadata": {},
   "outputs": [
    {
     "data": {
      "text/plain": [
       "' '"
      ]
     },
     "execution_count": 25,
     "metadata": {},
     "output_type": "execute_result"
    }
   ],
   "source": [
    "row2[position_index]"
   ]
  },
  {
   "cell_type": "markdown",
   "id": "822b98d6",
   "metadata": {},
   "source": [
    "# Validating Inputs"
   ]
  },
  {
   "cell_type": "code",
   "execution_count": 40,
   "id": "2d650cca",
   "metadata": {},
   "outputs": [],
   "source": [
    "def user_choice():\n",
    "    choice='WRONG'\n",
    "    while choice.isdigit() == False:\n",
    "        choice = input(\"Please enter a number between 0-9: \")\n",
    "        if choice.isdigit() == False:\n",
    "            print(\"Sorry! This is not a digit\")\n",
    "    return int(choice)"
   ]
  },
  {
   "cell_type": "code",
   "execution_count": 41,
   "id": "ac0186f4",
   "metadata": {},
   "outputs": [
    {
     "name": "stdout",
     "output_type": "stream",
     "text": [
      "Please enter a number between 0-9: er\n",
      "Sorry! This is not a digit\n",
      "Please enter a number between 0-9: qw\n",
      "Sorry! This is not a digit\n",
      "Please enter a number between 0-9: y\n",
      "Sorry! This is not a digit\n",
      "Please enter a number between 0-9: eeee\n",
      "Sorry! This is not a digit\n",
      "Please enter a number between 0-9: 5\n"
     ]
    },
    {
     "data": {
      "text/plain": [
       "5"
      ]
     },
     "execution_count": 41,
     "metadata": {},
     "output_type": "execute_result"
    }
   ],
   "source": [
    "user_choice()\n"
   ]
  },
  {
   "cell_type": "code",
   "execution_count": 42,
   "id": "bf99ea33",
   "metadata": {},
   "outputs": [],
   "source": [
    "result ='Wrong Value'"
   ]
  },
  {
   "cell_type": "code",
   "execution_count": 43,
   "id": "fdf365bd",
   "metadata": {},
   "outputs": [],
   "source": [
    "acceptable_range=[1,2,3]"
   ]
  },
  {
   "cell_type": "code",
   "execution_count": 44,
   "id": "1f8e9442",
   "metadata": {},
   "outputs": [
    {
     "data": {
      "text/plain": [
       "False"
      ]
     },
     "execution_count": 44,
     "metadata": {},
     "output_type": "execute_result"
    }
   ],
   "source": [
    "result in acceptable_range"
   ]
  },
  {
   "cell_type": "code",
   "execution_count": 47,
   "id": "a781a720",
   "metadata": {},
   "outputs": [
    {
     "data": {
      "text/plain": [
       "[0, 1, 2, 3, 4, 5, 6, 7, 8, 9]"
      ]
     },
     "execution_count": 47,
     "metadata": {},
     "output_type": "execute_result"
    }
   ],
   "source": [
    "list(range(0,10))"
   ]
  },
  {
   "cell_type": "code",
   "execution_count": 48,
   "id": "b814af96",
   "metadata": {},
   "outputs": [
    {
     "name": "stdout",
     "output_type": "stream",
     "text": [
      "range(0, 10)\n"
     ]
    }
   ],
   "source": [
    "acceptable_range=range(0,10)\n",
    "print(acceptable_range)"
   ]
  },
  {
   "cell_type": "code",
   "execution_count": 49,
   "id": "f6f080ac",
   "metadata": {},
   "outputs": [],
   "source": [
    "def user_choice():\n",
    "    #Variables\n",
    "    #Initial Values\n",
    "    choice='WRONG'\n",
    "    acceptable_range=range(0,10)\n",
    "    within_range=False\n",
    "    \n",
    "    #Two Checks\n",
    "    # DIGIT OR WITHIN_RANGE == False\n",
    "    while choice.isdigit() == False or within_range==False:\n",
    "        choice = input(\"Please enter a number between 0-9: \")\n",
    "        \n",
    "        #Digit Check\n",
    "        if choice.isdigit() == False:\n",
    "            print(\"Sorry! This is not a digit\")\n",
    "        #Range Check\n",
    "        if choice.isdigit() == True:\n",
    "            if int(choice) in acceptable_range:\n",
    "                within_range = True\n",
    "            else:\n",
    "                print(\"Sorry! You are out of acceptable range (0-9)\")\n",
    "                within_range = False\n",
    "    return int(choice)"
   ]
  },
  {
   "cell_type": "code",
   "execution_count": 50,
   "id": "32a7036f",
   "metadata": {},
   "outputs": [
    {
     "name": "stdout",
     "output_type": "stream",
     "text": [
      "Please enter a number between 0-9: two\n",
      "Sorry! This is not a digit\n",
      "Please enter a number between 0-9: 34\n",
      "Sorry! You are out of acceptable range (0-9)\n",
      "Please enter a number between 0-9: 7\n"
     ]
    },
    {
     "data": {
      "text/plain": [
       "7"
      ]
     },
     "execution_count": 50,
     "metadata": {},
     "output_type": "execute_result"
    }
   ],
   "source": [
    "user_choice()\n"
   ]
  },
  {
   "cell_type": "markdown",
   "id": "164afcb6",
   "metadata": {},
   "source": [
    "# Simple User Interaction"
   ]
  },
  {
   "cell_type": "code",
   "execution_count": 4,
   "id": "32504df5",
   "metadata": {},
   "outputs": [],
   "source": [
    "game_list=[0,1,2]"
   ]
  },
  {
   "cell_type": "code",
   "execution_count": 5,
   "id": "85c8bbc5",
   "metadata": {},
   "outputs": [],
   "source": [
    "def display_game(game_list):\n",
    "    print(\"Here is the current list\")\n",
    "    print(game_list)"
   ]
  },
  {
   "cell_type": "code",
   "execution_count": 6,
   "id": "b5029b48",
   "metadata": {},
   "outputs": [
    {
     "name": "stdout",
     "output_type": "stream",
     "text": [
      "Here is the current list\n",
      "[0, 1, 2]\n"
     ]
    }
   ],
   "source": [
    "display_game(game_list)"
   ]
  },
  {
   "cell_type": "code",
   "execution_count": 1,
   "id": "849c760d",
   "metadata": {},
   "outputs": [],
   "source": [
    "def position_choice():\n",
    "    choice='Wrong'\n",
    "    acceptable_values =['0','1','2']\n",
    "    while choice not in acceptable_values:\n",
    "        choice = input(\"Pick a position (0,1,2) : \")\n",
    "        if choice not in acceptable_values:\n",
    "            print(\"Sorry! Invalid choice\")\n",
    "        \n",
    "    return int(choice)"
   ]
  },
  {
   "cell_type": "code",
   "execution_count": 2,
   "id": "c6c26758",
   "metadata": {},
   "outputs": [
    {
     "name": "stdout",
     "output_type": "stream",
     "text": [
      "Pick a position (0,1,2) : 1\n"
     ]
    },
    {
     "data": {
      "text/plain": [
       "1"
      ]
     },
     "execution_count": 2,
     "metadata": {},
     "output_type": "execute_result"
    }
   ],
   "source": [
    "position_choice()\n"
   ]
  },
  {
   "cell_type": "code",
   "execution_count": 8,
   "id": "be2e7349",
   "metadata": {},
   "outputs": [],
   "source": [
    "def replacement_choice(game_list,position):\n",
    "    user_placement = input(\"Type a string to place a position: \")\n",
    "    game_list[position]=user_placement\n",
    "    return game_list"
   ]
  },
  {
   "cell_type": "code",
   "execution_count": 9,
   "id": "84c86fd2",
   "metadata": {},
   "outputs": [
    {
     "name": "stdout",
     "output_type": "stream",
     "text": [
      "Type a string to place a position: krishna\n"
     ]
    },
    {
     "data": {
      "text/plain": [
       "[0, 'krishna', 2]"
      ]
     },
     "execution_count": 9,
     "metadata": {},
     "output_type": "execute_result"
    }
   ],
   "source": [
    "replacement_choice(game_list,1)"
   ]
  },
  {
   "cell_type": "code",
   "execution_count": 13,
   "id": "6fdc4a19",
   "metadata": {},
   "outputs": [],
   "source": [
    "def gameon_choice():\n",
    "    choice='Wrong'\n",
    "    \n",
    "    while choice not in ['Y','N']:\n",
    "        choice = input(\"Keep Playing Y or N: \")\n",
    "        if choice not in ['Y','N']:\n",
    "            print(\"Sorry, I do not understand this. Please choose Y or N \")\n",
    "    if choice == 'Y':\n",
    "        return True\n",
    "    else:\n",
    "        return False"
   ]
  },
  {
   "cell_type": "code",
   "execution_count": 14,
   "id": "d3fbe0fd",
   "metadata": {},
   "outputs": [
    {
     "name": "stdout",
     "output_type": "stream",
     "text": [
      "Keep Playing Y or N: ok\n",
      "Sorry, I do not understand this. Please choose Y or N \n",
      "Keep Playing Y or N: Y\n"
     ]
    },
    {
     "data": {
      "text/plain": [
       "True"
      ]
     },
     "execution_count": 14,
     "metadata": {},
     "output_type": "execute_result"
    }
   ],
   "source": [
    "gameon_choice()\n"
   ]
  },
  {
   "cell_type": "code",
   "execution_count": 15,
   "id": "c5889972",
   "metadata": {},
   "outputs": [
    {
     "name": "stdout",
     "output_type": "stream",
     "text": [
      "Here is the current list\n",
      "[0, 1, 2]\n",
      "Pick a position (0,1,2) : 2\n",
      "Type a string to place a position: vik\n",
      "Here is the current list\n",
      "[0, 1, 'vik']\n",
      "Keep Playing Y or N: Y\n",
      "Here is the current list\n",
      "[0, 1, 'vik']\n",
      "Pick a position (0,1,2) : 1\n",
      "Type a string to place a position: op\n",
      "Here is the current list\n",
      "[0, 'op', 'vik']\n",
      "Keep Playing Y or N: y\n",
      "Sorry, I do not understand this. Please choose Y or N \n",
      "Keep Playing Y or N: Y\n",
      "Here is the current list\n",
      "[0, 'op', 'vik']\n",
      "Pick a position (0,1,2) : 0\n",
      "Type a string to place a position: okko\n",
      "Here is the current list\n",
      "['okko', 'op', 'vik']\n",
      "Keep Playing Y or N: N\n"
     ]
    }
   ],
   "source": [
    "game_on=True\n",
    "game_list=[0,1,2]\n",
    "\n",
    "while game_on:\n",
    "    display_game(game_list)\n",
    "    \n",
    "    position=position_choice()\n",
    "    \n",
    "    game_list=replacement_choice(game_list,position)\n",
    "    \n",
    "    display_game(game_list)\n",
    "    \n",
    "    game_on=gameon_choice()"
   ]
  },
  {
   "cell_type": "code",
   "execution_count": null,
   "id": "e420b89f",
   "metadata": {},
   "outputs": [],
   "source": []
  }
 ],
 "metadata": {
  "kernelspec": {
   "display_name": "Python 3 (ipykernel)",
   "language": "python",
   "name": "python3"
  },
  "language_info": {
   "codemirror_mode": {
    "name": "ipython",
    "version": 3
   },
   "file_extension": ".py",
   "mimetype": "text/x-python",
   "name": "python",
   "nbconvert_exporter": "python",
   "pygments_lexer": "ipython3",
   "version": "3.9.7"
  }
 },
 "nbformat": 4,
 "nbformat_minor": 5
}
